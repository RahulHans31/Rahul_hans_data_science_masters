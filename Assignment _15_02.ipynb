{
 "cells": [
  {
   "cell_type": "markdown",
   "id": "532d57b3",
   "metadata": {},
   "source": [
    "# Question 1: What is multiprocessing in python? Why is it useful?"
   ]
  },
  {
   "cell_type": "markdown",
   "id": "f899930e",
   "metadata": {},
   "source": [
    "\n",
    "\n",
    "Multiprocessing in Python is a technique that allows a program to take advantage of multiple CPUs or cores in order to perform tasks more efficiently. Multiprocessing involves running multiple processes in parallel, each of which can execute different parts of a program simultaneously.\n",
    "\n",
    "Multiprocessing is useful in several ways:\n",
    "\n",
    "Improved performance: Multiprocessing can improve the performance of a program by allowing it to take advantage of multiple CPUs or cores. By dividing a task into multiple processes, a program can execute multiple tasks simultaneously, reducing overall execution time.\n",
    "\n",
    "Resource sharing: Multiprocessing allows multiple processes to share the same resources, such as memory and I/O devices. This can reduce the amount of memory required by a program and allow it to more efficiently use system resources.\n",
    "\n",
    "Isolation: Each process in a multiprocessing program runs in its own memory space, which means that they are isolated from each other. This can help prevent bugs and other issues that can occur when multiple threads access shared resources simultaneously.\n",
    "\n",
    "Simplified program design: Multiprocessing can simplify the design of a program by allowing it to be divided into smaller, more manageable parts. This can make it easier to write, test, and debug the program.\n",
    "\n",
    "Overall, multiprocessing is a powerful tool that can help improve the performance and efficiency of Python programs, especially those that involve computationally-intensive tasks or that need to process large amounts of data.\n"
   ]
  },
  {
   "cell_type": "markdown",
   "id": "9127d35d",
   "metadata": {},
   "source": [
    "# Question 2: What are the differences between multiprocessing and multithreading?"
   ]
  },
  {
   "cell_type": "markdown",
   "id": "3b5e67fb",
   "metadata": {},
   "source": [
    "\n",
    "\n",
    "Multiprocessing and multithreading are both techniques for achieving concurrency in a program, but they have some key differences:\n",
    "\n",
    "Execution: In multiprocessing, multiple processes run in parallel, each with its own memory space and set of system resources, while in multithreading, multiple threads run concurrently within a single process, sharing the same memory space and resources.\n",
    "\n",
    "Performance: Multiprocessing can take advantage of multiple CPUs or cores to perform tasks more quickly, while multithreading can improve performance by allowing a program to perform other tasks while waiting for I/O operations to complete.\n",
    "\n",
    "Complexity: Multiprocessing is typically more complex than multithreading, as it requires communication between processes and may involve more overhead in terms of memory and resource usage.\n",
    "\n",
    "Resource sharing: In multiprocessing, processes typically share resources through inter-process communication mechanisms such as pipes, queues, and shared memory, while in multithreading, threads share resources such as memory and I/O devices directly.\n",
    "\n",
    "Overall, multiprocessing is well-suited for tasks that require high performance and can benefit from parallelization, while multithreading is better for tasks that involve I/O operations or require a simpler design. Both techniques have their own advantages and tradeoffs, and the choice between them depends on the specific needs of the program.\n"
   ]
  },
  {
   "cell_type": "markdown",
   "id": "d68233d1",
   "metadata": {},
   "source": [
    "# Question 3: Write a python code to create a process using the multiprocessing module."
   ]
  },
  {
   "cell_type": "code",
   "execution_count": 1,
   "id": "4abbcfaa",
   "metadata": {},
   "outputs": [
    {
     "name": "stdout",
     "output_type": "stream",
     "text": [
      "[1, 2, 3, 4, 5, 6, 7, 8, 9, 10]\n"
     ]
    }
   ],
   "source": [
    "import multiprocessing\n",
    "\n",
    "def square(index , value ):\n",
    "    value[index]=value[index]**2\n",
    "    \n",
    "\n",
    "    \n",
    "if __name__==\"__main__\":\n",
    "    arr=multiprocessing.Array(\"i\",[1,2,3,4,5,6,7,8,9,10])\n",
    "    process=[]\n",
    "    for i in range(10):\n",
    "        m=multiprocessing.Process(target=square , args=(i , arr))\n",
    "        process.append(m)\n",
    "        m.start()\n",
    "        \n",
    "    for m in process :\n",
    "        m.join()\n",
    "    print(list(arr))"
   ]
  },
  {
   "cell_type": "markdown",
   "id": "c8d2fe30",
   "metadata": {},
   "source": [
    "# Question 4: What is a multiprocessing pool in python? Why is it used?"
   ]
  },
  {
   "cell_type": "markdown",
   "id": "0e8dac8f",
   "metadata": {},
   "source": [
    "\n",
    "\n",
    "A multiprocessing pool in Python is a way of creating a pool of worker processes that can execute tasks in parallel. The multiprocessing module provides the Pool class, which allows a programmer to create a fixed-size pool of worker processes that can be used to parallelize tasks.\n",
    "\n",
    "The Pool class provides a number of methods for submitting tasks to the pool, such as apply(), map(), and imap(). These methods allow a programmer to submit tasks to the pool, which are then executed in parallel by the worker processes.\n",
    "\n",
    "The Pool class is useful for applications that need to perform many independent tasks in parallel, such as data processing or scientific computing. By dividing the work among multiple processes, the overall time required to complete the tasks can be reduced, resulting in improved performance and faster results.\n",
    "\n",
    "In addition, the Pool class automatically handles the creation and management of worker processes, as well as communication between the processes, making it a convenient and easy-to-use tool for parallel programming in Python.\n"
   ]
  },
  {
   "cell_type": "code",
   "execution_count": null,
   "id": "2b676fdf",
   "metadata": {},
   "outputs": [],
   "source": [
    "def square(n):\n",
    "    return n**2\n",
    "\n",
    "if __name__==\"__main__\":\n",
    "    with multiprocessing.Pool(processes=10) as pool :\n",
    "        out = pool.map(square , [1,2,3,4,5,6,7,8,9,10])\n",
    "        print(out)"
   ]
  },
  {
   "cell_type": "markdown",
   "id": "6f631237",
   "metadata": {},
   "source": [
    "# Question 5: How can we create a pool of worker processes in python using multiprocessing module?"
   ]
  },
  {
   "cell_type": "markdown",
   "id": "f4fbb6f2",
   "metadata": {},
   "source": [
    "\n",
    "\n",
    "To create a pool of worker processes in Python using the multiprocessing module, you can use the Pool class. Here's an example:\n"
   ]
  },
  {
   "cell_type": "code",
   "execution_count": null,
   "id": "f5ffb376",
   "metadata": {},
   "outputs": [],
   "source": [
    "import multiprocessing\n",
    "\n",
    "\n",
    "def worker(x):\n",
    "    return x*10\n",
    "\n",
    "\n",
    "\n",
    "if __name__==\"__main__\":\n",
    "    m=multiprocessing.Pool(processes=5)\n",
    "    x=[1,2,3,4,5,6,7,8,9,10]\n",
    "    z=m.map(worker,x)\n",
    "    print(z)\n",
    "    m.close()\n",
    "    m.join()"
   ]
  },
  {
   "cell_type": "markdown",
   "id": "fa26028b",
   "metadata": {},
   "source": [
    "# Question 6 : Write a python program to create 4 processes, each process should print a different number using the multiprocessing module in python."
   ]
  },
  {
   "cell_type": "code",
   "execution_count": null,
   "id": "0c062c01",
   "metadata": {},
   "outputs": [],
   "source": [
    "\n",
    "def function(x):\n",
    "    print(x , end=\" \")\n",
    "    \n",
    "    \n",
    "    \n",
    "if __name__==\"__main__\":\n",
    "    process=[]\n",
    "    for i in range(4):\n",
    "        m=multiprocessing.Process(target=function , args=(i,))\n",
    "        process.append(m)\n",
    "        m.start()\n",
    "    for m in process :\n",
    "        m.join()"
   ]
  }
 ],
 "metadata": {
  "kernelspec": {
   "display_name": "Python 3 (ipykernel)",
   "language": "python",
   "name": "python3"
  },
  "language_info": {
   "codemirror_mode": {
    "name": "ipython",
    "version": 3
   },
   "file_extension": ".py",
   "mimetype": "text/x-python",
   "name": "python",
   "nbconvert_exporter": "python",
   "pygments_lexer": "ipython3",
   "version": "3.11.4"
  }
 },
 "nbformat": 4,
 "nbformat_minor": 5
}

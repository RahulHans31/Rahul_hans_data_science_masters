{
 "cells": [
  {
   "cell_type": "markdown",
   "id": "75ee5109-e70b-4aaa-84f7-f610539662ec",
   "metadata": {},
   "source": [
    "# Q1. What is Abstraction in OOps? Explain with an example."
   ]
  },
  {
   "cell_type": "code",
   "execution_count": 5,
   "id": "b95f82b5-679c-4b3f-9d36-e3555cc01f70",
   "metadata": {},
   "outputs": [
    {
     "name": "stdout",
     "output_type": "stream",
     "text": [
      "You Ordered a circle\n",
      "You Ordered a rectangle\n"
     ]
    }
   ],
   "source": [
    "#It provide the easy and essential representation of complex systems it involues the hiding the unnessery data\n",
    "\n",
    "from abc import ABC, abstractmethod\n",
    "\n",
    "class Shape(ABC):\n",
    "    @abstractmethod\n",
    "    def draw(self):\n",
    "        pass\n",
    "\n",
    "class Circle(Shape):\n",
    "    def draw(self):\n",
    "        print(\"You Ordered a circle\")\n",
    "\n",
    "class Rectangle(Shape):\n",
    "    def draw(self):\n",
    "        print(\"You Ordered a rectangle\")\n",
    "\n",
    "C1 = Circle()\n",
    "R1 = Rectangle()\n",
    "\n",
    "C1.draw()\n",
    "R1.draw()"
   ]
  },
  {
   "cell_type": "markdown",
   "id": "9d37f7c8-94e1-435e-a9e1-d1aed3bfec76",
   "metadata": {},
   "source": [
    "# Q2. Differentiate between Abstraction and Encapsulation. Explain with an example."
   ]
  },
  {
   "cell_type": "markdown",
   "id": "031a552b-4fd5-4b03-845b-988883bee979",
   "metadata": {},
   "source": [
    "Difference between Abstraction and Encapsulation:\n",
    "\n",
    "    1.) Abstraction is concerned with creating a simplified view of a complex system, focusing on what an object does, while encapsulation is concerned with bundling data and methods together, hiding the internal details of an object.\n",
    "    \n",
    "    2.) Abstraction involves defining abstract classes or interfaces that provide a blueprint for derived classes to implement, whereas encapsulation involves wrapping data and methods into a single unit (class) and controlling access to them.\n",
    "    \n",
    "    3.) Abstraction is about defining a higher level of abstraction and working with objects based on their essential behaviors, while encapsulation provides data protection and ensures that the internal state of an object remains consistent and controlled.\n"
   ]
  },
  {
   "cell_type": "markdown",
   "id": "896cc10d-66a9-4dfc-ac0e-83d272a6c048",
   "metadata": {},
   "source": [
    "# Q3. What is abc module in python? Why is it used?"
   ]
  },
  {
   "cell_type": "markdown",
   "id": "dee1ddd9-3035-43ed-a6cb-f8971d2f14a4",
   "metadata": {},
   "source": [
    "ABC Stand for the \"Abstract Base Classes.\" it provide the mechanism for defining abstract base classees in python it is classes that cannot be instantiated and serve as blueprint for other classes"
   ]
  },
  {
   "cell_type": "code",
   "execution_count": 8,
   "id": "512cabf3-edba-4579-a8ee-aa9e21c8a64c",
   "metadata": {},
   "outputs": [
    {
     "name": "stdout",
     "output_type": "stream",
     "text": [
      "113.03999999999999\n",
      "24\n"
     ]
    }
   ],
   "source": [
    "from abc import ABC, abstractmethod\n",
    "\n",
    "class Shape(ABC): # abstract class \n",
    "    @abstractmethod\n",
    "    def area(self):\n",
    "        pass\n",
    "\n",
    "class Circle(Shape):\n",
    "    def __init__(self, radius):\n",
    "        self.radius = radius\n",
    "\n",
    "    def area(self):\n",
    "        return 3.14 * self.radius * self.radius\n",
    "\n",
    "class Rectangle(Shape):\n",
    "    def __init__(self, length, width):\n",
    "        self.length = length\n",
    "        self.width = width\n",
    "\n",
    "    def area(self):\n",
    "        return self.length * self.width\n",
    "\n",
    "    \n",
    "    \n",
    "C1 = Circle(6)\n",
    "R1 = Rectangle(6,4)\n",
    "\n",
    "print(C1.area())\n",
    "print(R1.area())"
   ]
  },
  {
   "cell_type": "markdown",
   "id": "0dd8f6d3-a558-4d17-b71d-91e28f3ada0c",
   "metadata": {},
   "source": [
    "# Q4. How can we achieve data abstraction?"
   ]
  },
  {
   "cell_type": "markdown",
   "id": "d38b9f49-2c96-4936-89ee-98e5c1595ca7",
   "metadata": {},
   "source": [
    "Data abstraction in programming refers to the concept of hiding the internal details or implementation of data structures and providing only essential information and operations to the users. It allows users to interact with the data using a simplified and well-defined interface, without needing to know the underlying complexities.\n",
    "\n",
    "In object-oriented programming, data abstraction can be achieved through the following techniques:\n",
    "\n",
    "    Encapsulation: Encapsulation is the process of bundling data and methods that operate on that data into a single unit, known as a class. By encapsulating the data within a class, you can control access to it and ensure that it is accessed and modified through well-defined methods or properties. This way, the internal representation of data remains hidden, providing an abstraction to the users.\n",
    "\n",
    "    Access Modifiers: Access modifiers like public, private, and protected can be used to control the visibility and accessibility of data members and methods in a class. By making certain data members private, you restrict direct access to them from outside the class. Instead, you provide public methods or properties to interact with and manipulate the data, allowing you to enforce abstraction and maintain data integrity.\n",
    "\n",
    "    Getter and Setter Methods: Getter and setter methods, also known as accessors and mutators, respectively, can be used to retrieve and modify the values of private data members. By providing controlled access to the data through these methods, you can enforce abstraction and define the rules and constraints for accessing and modifying the data.\n",
    "\n",
    "    Abstract Classes and Interfaces: Abstract classes and interfaces provide a higher level of abstraction by defining a common interface or blueprint for derived classes. They allow you to specify a set of methods that derived classes must implement, without providing any concrete implementation in the abstract class or interface itself. This allows you to work with objects based on their common interface, without worrying about the specific details of their implementation.\n",
    "\n",
    "By utilizing these techniques, you can achieve data abstraction in your programs. It helps in managing complexity, promoting modularity, and providing a simplified and well-defined way to interact with the data, shielding the users from unnecessary implementation details."
   ]
  },
  {
   "cell_type": "markdown",
   "id": "cbaa2258-25db-4ea6-b5ac-7e579ed80c0b",
   "metadata": {},
   "source": [
    "# Q5. Can we create an instance of an abstract class? Explain your answer"
   ]
  },
  {
   "cell_type": "markdown",
   "id": "eadf7400-adcb-4558-b03f-cb5b7778fa32",
   "metadata": {},
   "source": [
    "No, we cannot create an instance of an abstract class in Python. Abstract classes are designed to serve as blueprints or templates for other classes to inherit from, and they cannot be instantiated directly.\n",
    "\n",
    "Attempting to create an instance of an abstract class will result in a TypeError being raised. This is because abstract classes typically contain one or more abstract methods, which are methods without any implementation. These methods must be overridden and implemented in the derived classes.\n",
    "\n",
    "The purpose of abstract classes is to define a common interface and provide a structure for derived classes to follow. They encapsulate common behaviors and attributes that are shared among multiple related classes. By defining abstract methods, the abstract class ensures that all derived classes implement those methods, enforcing a certain contract or behavior.\n",
    "\n",
    "To use an abstract class, you need to create a derived class that inherits from the abstract class and provides implementations for all the abstract methods. This derived class can then be instantiated and used.\n",
    "\n",
    "Here's an example to illustrate the concept:"
   ]
  },
  {
   "cell_type": "code",
   "execution_count": 9,
   "id": "92d80a27-ce14-4cf6-bf3d-ee993135c620",
   "metadata": {},
   "outputs": [],
   "source": [
    "from abc import ABC, abstractmethod\n",
    "\n",
    "class AbstractClass(ABC):\n",
    "    @abstractmethod\n",
    "    def abstract_method(self):\n",
    "        pass\n",
    "\n",
    "class ConcreteClass(AbstractClass):\n",
    "    def abstract_method(self):\n",
    "        print(\"Implementation of abstract_method\")"
   ]
  },
  {
   "cell_type": "code",
   "execution_count": 10,
   "id": "f3039d94-79d0-4926-b6fd-48be2aa81509",
   "metadata": {},
   "outputs": [
    {
     "ename": "TypeError",
     "evalue": "Can't instantiate abstract class AbstractClass with abstract method abstract_method",
     "output_type": "error",
     "traceback": [
      "\u001b[0;31m---------------------------------------------------------------------------\u001b[0m",
      "\u001b[0;31mTypeError\u001b[0m                                 Traceback (most recent call last)",
      "Cell \u001b[0;32mIn[10], line 1\u001b[0m\n\u001b[0;32m----> 1\u001b[0m Abs_class \u001b[38;5;241m=\u001b[39m \u001b[43mAbstractClass\u001b[49m\u001b[43m(\u001b[49m\u001b[43m)\u001b[49m\n",
      "\u001b[0;31mTypeError\u001b[0m: Can't instantiate abstract class AbstractClass with abstract method abstract_method"
     ]
    }
   ],
   "source": [
    "Abs_class = AbstractClass() "
   ]
  },
  {
   "cell_type": "code",
   "execution_count": 11,
   "id": "d18fe490-1a47-4649-9b2d-894c82c34c30",
   "metadata": {},
   "outputs": [
    {
     "name": "stdout",
     "output_type": "stream",
     "text": [
      "Implementation of abstract_method\n"
     ]
    }
   ],
   "source": [
    "Conc_class = ConcreteClass()\n",
    "Conc_class.abstract_method()"
   ]
  },
  {
   "cell_type": "code",
   "execution_count": null,
   "id": "698c6cad-6719-4f1b-9b1d-ae8f4d263ad2",
   "metadata": {},
   "outputs": [],
   "source": []
  }
 ],
 "metadata": {
  "kernelspec": {
   "display_name": "Python 3 (ipykernel)",
   "language": "python",
   "name": "python3"
  },
  "language_info": {
   "codemirror_mode": {
    "name": "ipython",
    "version": 3
   },
   "file_extension": ".py",
   "mimetype": "text/x-python",
   "name": "python",
   "nbconvert_exporter": "python",
   "pygments_lexer": "ipython3",
   "version": "3.10.8"
  }
 },
 "nbformat": 4,
 "nbformat_minor": 5
}

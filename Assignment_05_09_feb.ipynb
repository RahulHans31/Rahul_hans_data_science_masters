{
 "cells": [
  {
   "cell_type": "markdown",
   "id": "a11dfce5-04e8-4e97-91a3-ce236c10dc95",
   "metadata": {},
   "source": [
    "\n",
    "# Q1, Create a vehicle class with an init method having instance variables as name_of_vehicle, max_speed and average_of_vehicle\n"
   ]
  },
  {
   "cell_type": "code",
   "execution_count": 2,
   "id": "201e2933-7758-4f62-a083-96d912fc5448",
   "metadata": {},
   "outputs": [
    {
     "name": "stdout",
     "output_type": "stream",
     "text": [
      "{'name_of_vehicle': 'BMW', 'max_speed': 65, 'average_of_vehicle': 35}\n"
     ]
    }
   ],
   "source": [
    "class Vehicle :\n",
    "    def __init__(self , name , speed , average):\n",
    "        self.name_of_vehicle = name \n",
    "        self.max_speed = speed\n",
    "        self.average_of_vehicle = average\n",
    "        \n",
    "example = Vehicle(\"BMW\" , 65 , 35)\n",
    "print(example.__dict__)"
   ]
  },
  {
   "cell_type": "markdown",
   "id": "96a1b6f3-edd8-4c8c-be08-33823bd992f1",
   "metadata": {},
   "source": [
    "# Q2. Create a child class car from the vehicle class created in Que 1, which will inherit the vehicle class. Create a method named seating_capacity which takes capacity as an argument and returns the name of the vehicle and its seating capacity."
   ]
  },
  {
   "cell_type": "code",
   "execution_count": 4,
   "id": "8f33490c-a063-4c45-9e56-1ce394863258",
   "metadata": {},
   "outputs": [
    {
     "name": "stdout",
     "output_type": "stream",
     "text": [
      "BMW 1\n"
     ]
    }
   ],
   "source": [
    "class Child_Class (Vehicle):\n",
    "    def seating_capacity(self , seating_capacity):\n",
    "        print(self.name_of_vehicle ,seating_capacity)\n",
    "\n",
    "c1 = Child_Class(\"BMW\",34,23)\n",
    "c1.seating_capacity(1)"
   ]
  },
  {
   "cell_type": "markdown",
   "id": "e1c09555-be4c-4812-af5a-03642014464e",
   "metadata": {},
   "source": [
    "# Q3. What is multiple inheritance? Write a python code to demonstrate multiple inheritance."
   ]
  },
  {
   "cell_type": "code",
   "execution_count": 5,
   "id": "9518cc35-efca-454d-aa80-bb6f9c587c60",
   "metadata": {},
   "outputs": [
    {
     "name": "stdout",
     "output_type": "stream",
     "text": [
      "This is c1 class \n"
     ]
    }
   ],
   "source": [
    "# When a Class inherit more than one class , It is known as Multiple Inheritence \n",
    "\n",
    "class c1 :\n",
    "    def __init__(self, age , sex):\n",
    "        self.age = age\n",
    "        self.sex = sex\n",
    "    def display():\n",
    "        print(\"This is c1 class \")\n",
    "class c2 :\n",
    "    def __init__(self, age , sex):\n",
    "        self.age = age\n",
    "        self.sex = sex\n",
    "    def display():\n",
    "        print(\"This is c2 class \")\n",
    "\n",
    "class c3 (c1 ,c2):\n",
    "    pass\n",
    "\n",
    "\n",
    "h1 = c3\n",
    "h1.display()"
   ]
  },
  {
   "cell_type": "markdown",
   "id": "a1a35149-d888-4abb-b801-d2800b172489",
   "metadata": {},
   "source": [
    "# Q4. What are getter and setter in python? Create a class and create a getter and a setter method in this class."
   ]
  },
  {
   "cell_type": "code",
   "execution_count": 16,
   "id": "93a06a1e-1eef-42cb-b7e6-c383bfa21c9f",
   "metadata": {},
   "outputs": [
    {
     "name": "stdout",
     "output_type": "stream",
     "text": [
      "60\n",
      "70\n",
      "70\n"
     ]
    },
    {
     "ename": "AttributeError",
     "evalue": "'Car' object has no attribute '__speed'",
     "output_type": "error",
     "traceback": [
      "\u001b[0;31m---------------------------------------------------------------------------\u001b[0m",
      "\u001b[0;31mAttributeError\u001b[0m                            Traceback (most recent call last)",
      "Cell \u001b[0;32mIn[16], line 18\u001b[0m\n\u001b[1;32m     16\u001b[0m \u001b[38;5;28mprint\u001b[39m(c1\u001b[38;5;241m.\u001b[39mget_speed()) \u001b[38;5;66;03m# value updated\u001b[39;00m\n\u001b[1;32m     17\u001b[0m \u001b[38;5;28mprint\u001b[39m(c1\u001b[38;5;241m.\u001b[39m_Car__speed) \u001b[38;5;66;03m# calling private value\u001b[39;00m\n\u001b[0;32m---> 18\u001b[0m \u001b[43mc1\u001b[49m\u001b[38;5;241;43m.\u001b[39;49m\u001b[43m__speed\u001b[49m \u001b[38;5;66;03m#cause error because the value is private\u001b[39;00m\n",
      "\u001b[0;31mAttributeError\u001b[0m: 'Car' object has no attribute '__speed'"
     ]
    }
   ],
   "source": [
    "#getter and setter are the method in python used to access the to the attribute of the class . the getter allow to retrieve and setter modify the data\n",
    "\n",
    "class Car:\n",
    "    __speed = 60 #private variable\n",
    "    \n",
    "    def set_speed(self , speed):\n",
    "        self.__speed = speed\n",
    "        \n",
    "    def get_speed(self):\n",
    "        return self.__speed\n",
    "    \n",
    "c1 = Car()\n",
    "\n",
    "print(c1.get_speed()) #calling getter\n",
    "c1.set_speed(70) #calling setter\n",
    "print(c1.get_speed()) # value updated\n",
    "print(c1._Car__speed) # calling private value\n",
    "c1.__speed #cause error because the value is private"
   ]
  },
  {
   "cell_type": "markdown",
   "id": "6d3f0d75-631b-428a-aeac-1c9b9ca579fe",
   "metadata": {},
   "source": [
    "# Q5.What is method overriding in python? Write a python code to demonstrate method overriding."
   ]
  },
  {
   "cell_type": "code",
   "execution_count": 22,
   "id": "20eb3950-baf9-4d14-8b89-eda6208a09bf",
   "metadata": {},
   "outputs": [
    {
     "data": {
      "text/plain": [
       "36"
      ]
     },
     "execution_count": 22,
     "metadata": {},
     "output_type": "execute_result"
    }
   ],
   "source": [
    "#It is the features of OOPS That allows a subclass to provide a different inplementation for a method that is define in the parent class\n",
    "\n",
    "class Shape:\n",
    "    def area(self):\n",
    "        print(\"This is the area\")\n",
    "        \n",
    "class Square:\n",
    "    def __init__(self , side):\n",
    "        self.Side = side\n",
    "        \n",
    "    def area(self):\n",
    "        return self.Side**2\n",
    "    \n",
    "Sq = Square(6)\n",
    "Sq.area()"
   ]
  },
  {
   "cell_type": "code",
   "execution_count": null,
   "id": "cb4599d4-18ef-4595-bf6e-4addbbf1ec3e",
   "metadata": {},
   "outputs": [],
   "source": []
  }
 ],
 "metadata": {
  "kernelspec": {
   "display_name": "Python 3 (ipykernel)",
   "language": "python",
   "name": "python3"
  },
  "language_info": {
   "codemirror_mode": {
    "name": "ipython",
    "version": 3
   },
   "file_extension": ".py",
   "mimetype": "text/x-python",
   "name": "python",
   "nbconvert_exporter": "python",
   "pygments_lexer": "ipython3",
   "version": "3.10.8"
  }
 },
 "nbformat": 4,
 "nbformat_minor": 5
}

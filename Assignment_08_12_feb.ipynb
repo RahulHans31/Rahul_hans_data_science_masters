{
 "cells": [
  {
   "cell_type": "markdown",
   "id": "48c43fc7-49ee-414d-b92a-031503000aa6",
   "metadata": {},
   "source": [
    "# What is an Exception in python? Write the difference between Exceptions and Syntax errors."
   ]
  },
  {
   "cell_type": "markdown",
   "id": "414f4ddc-fc5c-45c8-9c63-ae09dd495c72",
   "metadata": {},
   "source": [
    "Exception are the event in the program in which the error occur due the to file not found error , divide by Zero error etc (i.e Syntax is correct but some issue is still there) while Syntax errors are the gramtical made by the developer while writing the code\n",
    "\n",
    "In Python, an exception is an event that occurs during the execution of a program, which disrupts the normal flow of the program's instructions. When an exceptional situation occurs, an exception object is created, and the program flow is transferred to an appropriate exception handler that can handle or respond to the exception.\n",
    "\n",
    "Exceptions in Python can occur due to various reasons, such as invalid input, file not found, network errors, division by zero, and more. Python provides a mechanism to handle these exceptions through the use of try-except blocks. By handling exceptions, you can gracefully recover from errors, take alternative actions, or display appropriate error messages to users.\n",
    "\n",
    "Syntax errors, on the other hand, are different from exceptions. Syntax errors occur when the Python interpreter encounters invalid code that violates the language's syntax rules. These errors prevent the interpreter from parsing and executing the code. They are usually caused by typos, missing or misplaced punctuation, incorrect indentation, or using incorrect language constructs.\n",
    "\n",
    "Here are the key differences between exceptions and syntax errors in Python:\n",
    "\n",
    "    Cause: Exceptions occur during the execution of a program when an exceptional condition arises, such as invalid input or unexpected situations. Syntax errors occur during the parsing phase before the execution of the program when the code structure violates the syntax rules of the Python language.\n",
    "\n",
    "    Handling: Exceptions can be handled using try-except blocks. You can write code to catch specific exceptions and perform appropriate actions to handle them. Syntax errors cannot be handled through try-except blocks because they prevent the code from being parsed and executed. Syntax errors must be fixed by correcting the code itself.\n",
    "\n",
    "    Impact on program execution: Exceptions, when unhandled, can cause the program to terminate abruptly or behave unexpectedly. By handling exceptions, you can control the program flow and provide appropriate error handling. Syntax errors, on the other hand, prevent the program from running altogether until the errors are fixed.\n",
    "\n",
    "    Error messages: Exceptions provide detailed error messages that describe the cause and type of exception that occurred. These messages can help with debugging and identifying the root cause of the issue. Syntax errors, on the other hand, usually provide specific error messages that indicate the line number and nature of the syntax error, helping developers locate and fix the issue.\n",
    "\n",
    "In summary, exceptions are events that occur during program execution, disrupting the normal flow and requiring handling. Syntax errors, on the other hand, are errors in the code structure that prevent the program from running altogether until the errors are fixed."
   ]
  },
  {
   "cell_type": "markdown",
   "id": "3b2e97b3-bb0b-4925-86be-4f8ee78eff3d",
   "metadata": {},
   "source": [
    "# What happens when an exception is not handled? Explain with an example."
   ]
  },
  {
   "cell_type": "markdown",
   "id": "3e5241f9-912f-45dc-ada8-447a5572b9a0",
   "metadata": {},
   "source": [
    "When the exception is not handled then the error occurs and program exection stop for example if we have a code like this:"
   ]
  },
  {
   "cell_type": "code",
   "execution_count": 2,
   "id": "f7ae0181-de4c-417d-a07d-4c13fd5d0f91",
   "metadata": {},
   "outputs": [
    {
     "ename": "ZeroDivisionError",
     "evalue": "division by zero",
     "output_type": "error",
     "traceback": [
      "\u001b[0;31m---------------------------------------------------------------------------\u001b[0m",
      "\u001b[0;31mZeroDivisionError\u001b[0m                         Traceback (most recent call last)",
      "Cell \u001b[0;32mIn[2], line 4\u001b[0m\n\u001b[1;32m      1\u001b[0m \u001b[38;5;28;01mdef\u001b[39;00m \u001b[38;5;21mDiv\u001b[39m(a):\n\u001b[1;32m      2\u001b[0m     \u001b[38;5;28;01mreturn\u001b[39;00m a\u001b[38;5;241m/\u001b[39m\u001b[38;5;241m0\u001b[39m\n\u001b[0;32m----> 4\u001b[0m \u001b[43mDiv\u001b[49m\u001b[43m(\u001b[49m\u001b[38;5;241;43m6\u001b[39;49m\u001b[43m)\u001b[49m\n",
      "Cell \u001b[0;32mIn[2], line 2\u001b[0m, in \u001b[0;36mDiv\u001b[0;34m(a)\u001b[0m\n\u001b[1;32m      1\u001b[0m \u001b[38;5;28;01mdef\u001b[39;00m \u001b[38;5;21mDiv\u001b[39m(a):\n\u001b[0;32m----> 2\u001b[0m     \u001b[38;5;28;01mreturn\u001b[39;00m \u001b[43ma\u001b[49m\u001b[38;5;241;43m/\u001b[39;49m\u001b[38;5;241;43m0\u001b[39;49m\n",
      "\u001b[0;31mZeroDivisionError\u001b[0m: division by zero"
     ]
    }
   ],
   "source": [
    "def Div(a):\n",
    "    return a/0\n",
    "\n",
    "Div(6)"
   ]
  },
  {
   "cell_type": "markdown",
   "id": "0cd27a9c-c0ab-439e-b475-68a6e6305266",
   "metadata": {},
   "source": [
    "\n",
    "\n",
    "        When an exception is not handled in Python, it results in the program terminating abruptly and an error message being displayed. This behavior is known as an unhandled exception or an uncaught exception.\n"
   ]
  },
  {
   "cell_type": "code",
   "execution_count": 9,
   "id": "5d8fd52b-98ad-4e9e-a2e6-dcf38fc17237",
   "metadata": {},
   "outputs": [
    {
     "name": "stdout",
     "output_type": "stream",
     "text": [
      "Hey Hey Hey You got an error Bruh !!!!\n",
      "error is division by zero\n"
     ]
    }
   ],
   "source": [
    "try:\n",
    "    def Div(a):\n",
    "        return a/0\n",
    "    Div(6)\n",
    "except ZeroDivisionError as e:\n",
    "    print(\"Hey Hey Hey You got an error Bruh !!!!\")\n",
    "    print(f\"error is {e}\")\n",
    "    \n"
   ]
  },
  {
   "cell_type": "markdown",
   "id": "0e9a1670-7c5a-40c9-b5c0-261def6dc211",
   "metadata": {},
   "source": [
    "# Which Python statements are used to catch and handle exceptions? Explain with an example."
   ]
  },
  {
   "cell_type": "markdown",
   "id": "469d4607-c6d9-4b42-90ea-3c71186eebb2",
   "metadata": {},
   "source": [
    "In Python, the try-except statements are used to catch and handle exceptions. The try block encloses the code that might raise an exception, and the except block specifies the code to be executed if a specific exception occurs.\n",
    "\n",
    "Here's an example that demonstrates the use of try-except statements to catch and handle an exception:"
   ]
  },
  {
   "cell_type": "code",
   "execution_count": 18,
   "id": "547e7fbf-f6e9-406c-80e8-8f6db1d74e1a",
   "metadata": {},
   "outputs": [
    {
     "name": "stdout",
     "output_type": "stream",
     "text": [
      "Hey Hey Hey You got an error Bruh !!!!\n",
      "error is division by zero\n"
     ]
    }
   ],
   "source": [
    "try:\n",
    "    def Div(a):\n",
    "        return a/0\n",
    "    Div(6)\n",
    "except ZeroDivisionError as e:\n",
    "    print(\"Hey Hey Hey You got an error Bruh !!!!\")\n",
    "    print(f\"error is {e}\")\n",
    "\n",
    "    \n",
    "    \n"
   ]
  },
  {
   "cell_type": "markdown",
   "id": "5d0e62e0-2a98-4b82-8d9c-96f7734fba5d",
   "metadata": {},
   "source": [
    "# Q4. Explain with an example: try and else# finally raise\n",
    "\n"
   ]
  },
  {
   "cell_type": "markdown",
   "id": "82e586b9-8a7f-44c8-81b4-a7f945b20864",
   "metadata": {},
   "source": [
    "1.)\n",
    "    try and else:\n",
    "\n",
    "The try and else statements work together to handle exceptions and execute code when no exceptions occur. The code within the try block is executed, and if an exception is raised, it is caught and handled. If no exception occurs, the code within the else block is executed.\n",
    "\n"
   ]
  },
  {
   "cell_type": "code",
   "execution_count": 19,
   "id": "69f6e3ab-2ba2-4dd0-820f-9dd697e325f4",
   "metadata": {},
   "outputs": [
    {
     "name": "stdout",
     "output_type": "stream",
     "text": [
      "Result: 5.0\n"
     ]
    }
   ],
   "source": [
    "\n",
    "try:\n",
    "    result = 10 / 2\n",
    "    \n",
    "except ZeroDivisionError:\n",
    "    print(\"Error: Cannot divide by zero!\")\n",
    "else:\n",
    "    print(\"Result:\", result)"
   ]
  },
  {
   "cell_type": "markdown",
   "id": "58a889f7-3071-4acf-8cf9-64dd7243bffb",
   "metadata": {},
   "source": [
    "finally: The finally block is used to specify code that must be executed regardless of whether an exception occurs or not. It is typically used for cleanup operations or releasing resources.\n"
   ]
  },
  {
   "cell_type": "code",
   "execution_count": 20,
   "id": "f86e85ef-4f23-40fe-adb8-a6571c47ad6d",
   "metadata": {},
   "outputs": [
    {
     "name": "stdout",
     "output_type": "stream",
     "text": [
      "Error: File not found!\n"
     ]
    },
    {
     "ename": "NameError",
     "evalue": "name 'file' is not defined",
     "output_type": "error",
     "traceback": [
      "\u001b[0;31m---------------------------------------------------------------------------\u001b[0m",
      "\u001b[0;31mNameError\u001b[0m                                 Traceback (most recent call last)",
      "Cell \u001b[0;32mIn[20], line 6\u001b[0m\n\u001b[1;32m      4\u001b[0m     \u001b[38;5;28mprint\u001b[39m(\u001b[38;5;124m\"\u001b[39m\u001b[38;5;124mError: File not found!\u001b[39m\u001b[38;5;124m\"\u001b[39m)\n\u001b[1;32m      5\u001b[0m \u001b[38;5;28;01mfinally\u001b[39;00m:\n\u001b[0;32m----> 6\u001b[0m     \u001b[43mfile\u001b[49m\u001b[38;5;241m.\u001b[39mclose()\n",
      "\u001b[0;31mNameError\u001b[0m: name 'file' is not defined"
     ]
    }
   ],
   "source": [
    "\n",
    "try:\n",
    "    file = open(\"example.txt\", \"r\")\n",
    "except FileNotFoundError:\n",
    "    print(\"Error: File not found!\")\n",
    "finally:\n",
    "    file.close()\n"
   ]
  },
  {
   "cell_type": "markdown",
   "id": "d91e4f26-9b38-42ea-bc01-46a2510f9e4a",
   "metadata": {},
   "source": [
    "\n",
    "3.)raise: The raise statement is used to explicitly raise an exception. It allows you to create custom exceptions or re-raise existing ones.\n"
   ]
  },
  {
   "cell_type": "code",
   "execution_count": 21,
   "id": "aea6ffcb-3bc6-47ff-997e-f5c4b5cbf96a",
   "metadata": {},
   "outputs": [
    {
     "name": "stdout",
     "output_type": "stream",
     "text": [
      "Invalid age: Age cannot be negative.\n"
     ]
    }
   ],
   "source": [
    "\n",
    "def validate_age(age):\n",
    "    if age < 0:\n",
    "        raise ValueError(\"Invalid age: Age cannot be negative.\")\n",
    "\n",
    "try:\n",
    "    age = -5\n",
    "    validate_age(age)\n",
    "except ValueError as e:\n",
    "    print(str(e))\n"
   ]
  },
  {
   "cell_type": "markdown",
   "id": "8194ffb5-7cff-4ae3-b4df-3fd746106902",
   "metadata": {},
   "source": [
    "\n",
    "In this example, the validate_age function checks if the given age is negative and raises a ValueError if it is. In the try block, an age of -5 is passed to the function, triggering the raise statement. The ValueError is then caught in the except block, and the error message \"Invalid age: Age cannot be negative.\" is printed."
   ]
  },
  {
   "cell_type": "markdown",
   "id": "19d31bfd-dabf-40cf-9899-d99c83fd5bb6",
   "metadata": {},
   "source": [
    "# Q5. What are Custom Exceptions in python? Why do we need Custom Exceptions? Explain with an example."
   ]
  },
  {
   "cell_type": "markdown",
   "id": "42b59b93-a21f-4bf4-bdcd-73526b201808",
   "metadata": {},
   "source": [
    "Custom exceptions, also known as user-defined exceptions, are exceptions that you define yourself by creating a new exception class. Python allows you to create your own exception classes by subclassing the built-in Exception class or one of its subclasses.\n",
    "\n",
    "We need custom exceptions to provide more specific and meaningful error messages for exceptional situations in our code. By defining custom exception classes, we can create exception hierarchies that reflect the structure and logic of our program, making it easier to handle and differentiate between different types of errors."
   ]
  },
  {
   "cell_type": "code",
   "execution_count": 22,
   "id": "71cf989f-3153-438c-a5c3-25e9ecc1fec6",
   "metadata": {},
   "outputs": [
    {
     "name": "stdout",
     "output_type": "stream",
     "text": [
      "Invalid age: Age cannot be negative.\n"
     ]
    }
   ],
   "source": [
    "def validate_age(age):\n",
    "    if age < 0:\n",
    "        raise ValueError(\"Invalid age: Age cannot be negative.\")\n",
    "\n",
    "try:\n",
    "    age = -5\n",
    "    validate_age(age)\n",
    "except ValueError as e:\n",
    "    print(str(e))\n"
   ]
  },
  {
   "cell_type": "markdown",
   "id": "3352f8cb-16a4-4eb4-aa7a-c5f9072365bb",
   "metadata": {},
   "source": [
    "# Q6. Create a custom exception class. Use this class to handle an exception."
   ]
  },
  {
   "cell_type": "code",
   "execution_count": 23,
   "id": "52889b54-15e0-439a-905d-d339a8da7b75",
   "metadata": {},
   "outputs": [
    {
     "name": "stdout",
     "output_type": "stream",
     "text": [
      "Invalid age: Age cannot be negative.\n"
     ]
    }
   ],
   "source": [
    "def validate_age(age):\n",
    "    if age < 0:\n",
    "        raise ValueError(\"Invalid age: Age cannot be negative.\")\n",
    "\n",
    "try:\n",
    "    age = -5\n",
    "    validate_age(age)\n",
    "except ValueError as e:\n",
    "    print(str(e))\n"
   ]
  },
  {
   "cell_type": "code",
   "execution_count": null,
   "id": "f9ca8e01-77ff-440b-9bf2-6bf0062e18b9",
   "metadata": {},
   "outputs": [],
   "source": []
  }
 ],
 "metadata": {
  "kernelspec": {
   "display_name": "Python 3 (ipykernel)",
   "language": "python",
   "name": "python3"
  },
  "language_info": {
   "codemirror_mode": {
    "name": "ipython",
    "version": 3
   },
   "file_extension": ".py",
   "mimetype": "text/x-python",
   "name": "python",
   "nbconvert_exporter": "python",
   "pygments_lexer": "ipython3",
   "version": "3.10.8"
  }
 },
 "nbformat": 4,
 "nbformat_minor": 5
}

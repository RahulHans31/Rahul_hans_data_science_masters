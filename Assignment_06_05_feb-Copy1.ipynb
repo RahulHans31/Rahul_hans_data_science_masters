{
 "cells": [
  {
   "cell_type": "markdown",
   "id": "c8722b07-ee3b-448b-b696-1e162dd4001f",
   "metadata": {},
   "source": [
    "# Q1. Explain Class and Object with respect to Object-Oriented Programming. Give a suitable example."
   ]
  },
  {
   "cell_type": "code",
   "execution_count": 3,
   "id": "d6d12f25-13b6-4d8d-8be2-3d40faa9963f",
   "metadata": {},
   "outputs": [
    {
     "name": "stdout",
     "output_type": "stream",
     "text": [
      "This is humas animal and the agge of the animals is 64\n"
     ]
    }
   ],
   "source": [
    "#  In oops the class is the blue print of object and the object is real time  instance of the class class defines the properties of the object\n",
    "\n",
    "class animals :\n",
    "    age = 0\n",
    "    def __init__(self, type,age) :\n",
    "        self.__type = type \n",
    "        self.age = age\n",
    "    def display (self):\n",
    "        print (f\"This is {self.__type} animal and the agge of the animals is {self.age}\")\n",
    "\n",
    "a1 =animals(\"humas\",64)\n",
    "a1.display()"
   ]
  },
  {
   "cell_type": "markdown",
   "id": "78259c8b-7265-4b3c-9a04-ce2b5baafee7",
   "metadata": {},
   "source": [
    "# Q2. Name the four pillars of OOPs."
   ]
  },
  {
   "cell_type": "markdown",
   "id": "1c49c2ca-3ff4-4b71-b806-42ec64849ae5",
   "metadata": {},
   "source": [
    "The four pillars of object-oriented programming (OOP) are:\n",
    "\n",
    "    Encapsulation: binding data and methods that operate on that data into a single unit, known as a class. It hides the internal details and implementation of an object from the outside world and provides access to the object's behavior through well-defined interfaces.\n",
    "\n",
    "    Inheritance: Inheritance allows the creation of new classes based on existing classes. It enables code reuse and the creation of a hierarchical relationship between classes. A derived class (child class) can inherit the attributes and methods of a base class (parent class) and can also add its own unique characteristics.\n",
    "\n",
    "    Polymorphism: Polymorphism means the ability of an object to take on many forms. It allows objects of different classes to be treated as objects of a common superclass. Polymorphism enables methods to be defined in the superclass and overridden in the subclasses, allowing different implementations based on the specific objects being used.\n",
    "\n",
    "    Abstraction: Abstraction involves the concept of simplifying complex systems by providing only essential details and hiding unnecessary complexity. It allows the creation of abstract classes and interfaces that define the common behavior and attributes for a group of related objects. Abstraction helps in managing complexity and building modular, reusable code.\n"
   ]
  },
  {
   "cell_type": "markdown",
   "id": "72af414d-1971-4ad7-83d8-fbf29c572c55",
   "metadata": {},
   "source": [
    "# Q3. Explain why the __init__() function is used. Give a suitable example."
   ]
  },
  {
   "cell_type": "code",
   "execution_count": 5,
   "id": "4290e61a-860c-45bb-8a2c-90f43a856884",
   "metadata": {},
   "outputs": [
    {
     "name": "stdout",
     "output_type": "stream",
     "text": [
      "I am the __init__ function . You called me \n"
     ]
    }
   ],
   "source": [
    "# __init__ function is the function that gets called upon object creation automatically \n",
    "\n",
    "class My_class:\n",
    "    def __init__(self):\n",
    "        print(\"I am the __init__ function . You called me \")\n",
    "        \n",
    "my_object = My_class()"
   ]
  },
  {
   "cell_type": "markdown",
   "id": "0655b0f5-79a7-428b-bc36-8e050229b186",
   "metadata": {},
   "source": [
    "# Q4. Why self is used in OOPs?"
   ]
  },
  {
   "cell_type": "markdown",
   "id": "ff1dacae-54d4-48d4-8b4c-530805d958dd",
   "metadata": {},
   "source": [
    "In object-oriented programming (OOP), self is used as a convention to refer to the instance of a class within its methods. It acts as a reference to the current object or instance on which a method is being invoked.\n",
    "\n",
    "The self parameter is the first parameter of instance methods in Python classes. By convention, it is named self, but you can choose any name for it (although sticking to the convention is recommended).\n",
    "\n",
    "By using self, you can work with the specific instance and its attributes within the methods of a class, enabling the encapsulation of data and behavior within objects in an object-oriented program."
   ]
  },
  {
   "cell_type": "markdown",
   "id": "b2d8ea31-e61e-4820-b62d-1fbc89160c02",
   "metadata": {},
   "source": [
    "# Q5. What is inheritance? Give an example for each type of inheritance."
   ]
  },
  {
   "cell_type": "markdown",
   "id": "c2d115f4-fe0c-40e4-9133-0468c934a90f",
   "metadata": {},
   "source": [
    "In object-oriented programming, inheritance is a mechanism that allows a class to inherit properties and behaviors from another class, known as the base or parent class. The class that inherits these properties and behaviors is called the derived or child class. Inheritance promotes code reusability and establishes a hierarchical relationship between classes.\n",
    "\n",
    "There are several types of inheritance:\n",
    "\n",
    "    Single Inheritance: In single inheritance, a derived class inherits properties and behaviors from a single base class.\n"
   ]
  },
  {
   "cell_type": "code",
   "execution_count": 15,
   "id": "bd263b75-eab4-47c6-8a85-7a4e7b7b95c0",
   "metadata": {},
   "outputs": [
    {
     "name": "stdout",
     "output_type": "stream",
     "text": [
      "This is parent func\n"
     ]
    }
   ],
   "source": [
    "#Example code \n",
    "\n",
    "class C1 :\n",
    "    def __init(self):\n",
    "        print(\"This is Parent class\")\n",
    "    \n",
    "    def greet(self):\n",
    "        print(\"This is parent func\")\n",
    "\n",
    "class C2(C1):\n",
    "    def Greet2(self):\n",
    "        print(\"This is C2 Func\")\n",
    "\n",
    "ca = C2()\n",
    "ca.greet()"
   ]
  },
  {
   "cell_type": "markdown",
   "id": "c462b371-5da3-4992-b443-fab7358f7796",
   "metadata": {},
   "source": [
    "Multiple Inheritance: Multiple inheritance occurs when a derived class inherits from more than one base class. This means the derived class incorporates properties and behaviors from multiple classes.\n"
   ]
  },
  {
   "cell_type": "code",
   "execution_count": 17,
   "id": "7f059150-9964-4a6c-8a18-877fb1032c71",
   "metadata": {},
   "outputs": [],
   "source": [
    "class C3:\n",
    "    def greet3(self):\n",
    "        print(\"This is C3 Class\")\n",
    "\n",
    "class C4(C1 ,C3):\n",
    "    def greet4(self):\n",
    "        print(\"This is C4 Class\")"
   ]
  },
  {
   "cell_type": "markdown",
   "id": "46456826-2dfb-472e-8f8f-5a2251874c63",
   "metadata": {},
   "source": [
    "\n",
    "\n",
    "    Multilevel Inheritance: Multilevel inheritance involves a chain of inheritance, where a derived class serves as the base class for another derived class. In this way, properties and behaviors can be inherited through multiple levels.\n"
   ]
  },
  {
   "cell_type": "code",
   "execution_count": 18,
   "id": "ddcd772e-9ceb-4050-b1b1-b8338a690b58",
   "metadata": {},
   "outputs": [
    {
     "name": "stdout",
     "output_type": "stream",
     "text": [
      "This is parent func\n"
     ]
    }
   ],
   "source": [
    "class C5(C2):\n",
    "    pass\n",
    "\n",
    "cs = C5()\n",
    "cs.greet()"
   ]
  },
  {
   "cell_type": "code",
   "execution_count": null,
   "id": "c5068dbf-342c-4f95-8b88-52d184666da8",
   "metadata": {},
   "outputs": [],
   "source": []
  }
 ],
 "metadata": {
  "kernelspec": {
   "display_name": "Python 3 (ipykernel)",
   "language": "python",
   "name": "python3"
  },
  "language_info": {
   "codemirror_mode": {
    "name": "ipython",
    "version": 3
   },
   "file_extension": ".py",
   "mimetype": "text/x-python",
   "name": "python",
   "nbconvert_exporter": "python",
   "pygments_lexer": "ipython3",
   "version": "3.10.8"
  }
 },
 "nbformat": 4,
 "nbformat_minor": 5
}

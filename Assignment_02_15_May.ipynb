{
 "cells": [
  {
   "cell_type": "markdown",
   "id": "fe112404-6f97-4b77-8100-fb7e1029797b",
   "metadata": {},
   "source": [
    "Q1. How do you comment code in Python? What are the different types of comments?\n"
   ]
  },
  {
   "cell_type": "markdown",
   "id": "76b4a529-4941-4102-a447-8297cad0525a",
   "metadata": {},
   "source": [
    "There are two types of commemts \n",
    "1.) Single line (#)\n",
    "2.) Multi line(\"\"\")"
   ]
  },
  {
   "cell_type": "code",
   "execution_count": 1,
   "id": "53af0032-090e-40f6-b2e0-fcc0b83c8af2",
   "metadata": {},
   "outputs": [
    {
     "data": {
      "text/plain": [
       "' Hey I am a multi line comment \\nYou can comment multiple line using '"
      ]
     },
     "execution_count": 1,
     "metadata": {},
     "output_type": "execute_result"
    }
   ],
   "source": [
    "# Hey I am a single line comment ( Single Just like You )\n",
    "\n",
    "\"\"\" Hey I am a multi line comment \n",
    "You can comment multiple line using \"\"\""
   ]
  },
  {
   "cell_type": "markdown",
   "id": "3a7c6d30-41a3-490c-94ce-d33246d9f0a0",
   "metadata": {},
   "source": [
    "Q2. What are variables in Python? How do you declare and assign values to variables?\n"
   ]
  },
  {
   "cell_type": "code",
   "execution_count": 3,
   "id": "8bb3f250-1e44-4e18-af56-bdf264db7b96",
   "metadata": {},
   "outputs": [
    {
     "name": "stdout",
     "output_type": "stream",
     "text": [
      "4\n",
      "Hello World\n"
     ]
    }
   ],
   "source": [
    "# In Python Variable points to the an specific address in the memory where the data is stored \n",
    "\n",
    "# There are different type of data types\n",
    "\n",
    "a = 4 #int\n",
    "print(a)\n",
    "\n",
    "# Here we declared a variable named a and assigned it the value 4\n",
    "\n",
    "strr = \"Hello World\" #string\n",
    "print(strr)"
   ]
  },
  {
   "cell_type": "markdown",
   "id": "14323bbf-3e51-4fbd-ad2f-33b0302bd4f0",
   "metadata": {},
   "source": [
    "Q3 How do you convert one data type to another in Python?"
   ]
  },
  {
   "cell_type": "code",
   "execution_count": 5,
   "id": "646a1f5b-f28e-4bae-964b-e4b359eef421",
   "metadata": {},
   "outputs": [],
   "source": [
    "# str , int , float  are some of the function to convert one data to other \n",
    "\n",
    "a , b , c , d = 1,\"4\" , 5.6 , [1,2,3,4]\n",
    "\n",
    "# Conversion to string \n",
    "\n",
    "a1 = str(a) \n",
    "c1 = str(c)\n",
    "d1 = str(d)\n",
    "\n",
    "# conversion to int \n",
    "b2 = int(b)\n",
    "c2 = int(c)\n",
    "\n",
    "# conversion to float \n",
    "b3 = float(b)\n",
    "a3 = float(a)"
   ]
  },
  {
   "cell_type": "markdown",
   "id": "8f7f54c4-06b7-4bf2-8aa7-ba85022b842e",
   "metadata": {},
   "source": [
    "# Q4. How do you write and execute a Python script from the command line?"
   ]
  },
  {
   "cell_type": "markdown",
   "id": "5123a83c-5219-49a7-af0d-99ffed2ce74c",
   "metadata": {},
   "source": [
    "# To write and execute a Python script from the command line, follow these steps:\n",
    "\n",
    "1.) Open  a File editor and create a file with extention .py \n",
    "\n",
    "2.) Write the code in that file \n",
    "\n",
    "3.) Open the command line or terminal on your computer.\n",
    "\n",
    "4.) Navigate to the location where the file is stored \n",
    "ex: cd Desktop \n",
    "\n",
    "5.) Run the command (Python File_Name) \n",
    "ex: Python App.py \n",
    "\n",
    "6.) The output will be displayed on the screen\n"
   ]
  },
  {
   "cell_type": "markdown",
   "id": "00eec415-6024-4b8c-aa3b-20c9bc467ede",
   "metadata": {},
   "source": [
    "# Q5. Given a list my_list = [1, 2, 3, 4, 5], write the code to slice the list and obtain the sub-list [2, 3]."
   ]
  },
  {
   "cell_type": "markdown",
   "id": "357984a7-d02d-4ca6-8e22-52f597dd0c2e",
   "metadata": {},
   "source": [
    "my_list = [1, 2, 3, 4, 5]\n",
    "\n",
    "my_list[1:3]"
   ]
  },
  {
   "cell_type": "markdown",
   "id": "c88a147d-6ac7-419b-896d-c3b00cc867b6",
   "metadata": {},
   "source": [
    "# Q6. What is a complex number in mathematics, and how is it represented in Python?"
   ]
  },
  {
   "cell_type": "markdown",
   "id": "64963057-23e1-43a4-a343-1aaeefa5b48d",
   "metadata": {},
   "source": [
    "# A complex Number is a number having a real and imaginary value "
   ]
  },
  {
   "cell_type": "markdown",
   "id": "dde3d027-c7d2-4da9-85f2-f83ebb158ff9",
   "metadata": {},
   "source": [
    "The real Component Denotes the horixontal component and the vertical component is denoted by imaginary part. It is of type x+yi \n",
    "\n",
    "In Python we can make a complex number using 2 methods \n",
    "1.) z = complex(a , b)\n",
    "2.) z = a+bj"
   ]
  },
  {
   "cell_type": "code",
   "execution_count": 10,
   "id": "a2e8b4d8-612c-4cad-8bc2-a3e5e50dc933",
   "metadata": {},
   "outputs": [
    {
     "data": {
      "text/plain": [
       "complex"
      ]
     },
     "execution_count": 10,
     "metadata": {},
     "output_type": "execute_result"
    }
   ],
   "source": [
    "z= 2+ 3j\n",
    "type(z)"
   ]
  },
  {
   "cell_type": "markdown",
   "id": "63893faa-d6e1-4876-98ee-a59dd75d2a3f",
   "metadata": {},
   "source": [
    "# Q7. What is the correct way to declare a variable named age and assign the value 25 to it?"
   ]
  },
  {
   "cell_type": "code",
   "execution_count": 11,
   "id": "ed1ec768-67ef-406d-8339-773462e30894",
   "metadata": {},
   "outputs": [],
   "source": [
    "age = 25\n",
    "\n",
    "# Here we are declaring a variable age and storing a integer value 25 in it "
   ]
  },
  {
   "cell_type": "markdown",
   "id": "6b7c0800-010d-40c9-961c-d88fc6e129ff",
   "metadata": {},
   "source": [
    "# Q8. Declare a variable named price and assign the value 9.99 to it. What data type does this variable belong to?"
   ]
  },
  {
   "cell_type": "code",
   "execution_count": 12,
   "id": "a11feb87-f1ed-42fe-afda-8ac2294c6d41",
   "metadata": {},
   "outputs": [
    {
     "data": {
      "text/plain": [
       "float"
      ]
     },
     "execution_count": 12,
     "metadata": {},
     "output_type": "execute_result"
    }
   ],
   "source": [
    "price = 9.99\n",
    "\n",
    "type(price)\n",
    "\n",
    "# As we can see It belongs to float Data type"
   ]
  },
  {
   "cell_type": "markdown",
   "id": "45f2933a-f04d-4a17-a352-5a937e2a20e2",
   "metadata": {},
   "source": [
    "# Q9. Create a variable named name and assign your full name to it as a string. How would you print the value of this variable?"
   ]
  },
  {
   "cell_type": "code",
   "execution_count": 13,
   "id": "4cf9c2b7-d925-4570-89aa-8a0edfb04039",
   "metadata": {},
   "outputs": [
    {
     "name": "stdout",
     "output_type": "stream",
     "text": [
      "Rahul Hans\n"
     ]
    }
   ],
   "source": [
    "name = \"Rahul Hans\" \n",
    "\n",
    "print(name)"
   ]
  },
  {
   "cell_type": "markdown",
   "id": "11f94d8b-2bf0-4e6e-8cfe-a85f4a710216",
   "metadata": {},
   "source": [
    "# Q10. Given the string \"Hello, World!\", extract the substring \"World\".\n"
   ]
  },
  {
   "cell_type": "code",
   "execution_count": 15,
   "id": "3b769b65-abb4-4cb3-8cb9-d9d6def97c09",
   "metadata": {},
   "outputs": [
    {
     "name": "stdout",
     "output_type": "stream",
     "text": [
      "World\n"
     ]
    }
   ],
   "source": [
    "a = \"Hello World!\"\n",
    "\n",
    "print(a[6:11])"
   ]
  },
  {
   "cell_type": "markdown",
   "id": "6b0e59a8-223a-4b80-a922-f822fb0fc5c3",
   "metadata": {},
   "source": [
    "# Q11. Create a variable named \"is_student\" and assign it a boolean value indicating whether you are currently a student or not."
   ]
  },
  {
   "cell_type": "code",
   "execution_count": 16,
   "id": "4853dede-2437-42b4-b37f-50b90721f385",
   "metadata": {},
   "outputs": [],
   "source": [
    "is_student = True"
   ]
  },
  {
   "cell_type": "code",
   "execution_count": null,
   "id": "f2c42ff0-eaf8-45bb-9285-b638e913e72c",
   "metadata": {},
   "outputs": [],
   "source": []
  }
 ],
 "metadata": {
  "kernelspec": {
   "display_name": "Python 3 (ipykernel)",
   "language": "python",
   "name": "python3"
  },
  "language_info": {
   "codemirror_mode": {
    "name": "ipython",
    "version": 3
   },
   "file_extension": ".py",
   "mimetype": "text/x-python",
   "name": "python",
   "nbconvert_exporter": "python",
   "pygments_lexer": "ipython3",
   "version": "3.10.8"
  }
 },
 "nbformat": 4,
 "nbformat_minor": 5
}

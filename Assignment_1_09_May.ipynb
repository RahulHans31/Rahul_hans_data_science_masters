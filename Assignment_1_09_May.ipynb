{
 "cells": [
  {
   "cell_type": "markdown",
   "id": "a32e4fa1-e19a-4b0e-8169-4b7f378baed5",
   "metadata": {},
   "source": [
    "Q1. Create one variable containing following type of data:\n",
    "(i) string\n",
    "(ii) list\n",
    "(iii) float\n",
    "(iv) tuple"
   ]
  },
  {
   "cell_type": "code",
   "execution_count": 2,
   "id": "338f296d-9be6-40b0-af46-096f09fdc815",
   "metadata": {},
   "outputs": [],
   "source": [
    "str1 = \"Hello World!\"\n",
    "list1 = [1,2,3,'4',5,[1,6,4]]\n",
    "float1 = 6.858\n",
    "tuple1 = (6,7,8,9)"
   ]
  },
  {
   "cell_type": "markdown",
   "id": "9891edcf-319f-4abd-891f-f08ddfde8b47",
   "metadata": {},
   "source": [
    "Q2. Given are some following variables containing data:\n",
    "(i) var1 = ‘ ‘\n",
    "(ii) var2 = ‘[ DS , ML , Python]’\n",
    "(iii) var3 = [ ‘DS’ , ’ML’ , ‘Python’ ]\n",
    "(iv) var4 = 1.\n",
    "What will be the data type of the above given variable."
   ]
  },
  {
   "cell_type": "code",
   "execution_count": 11,
   "id": "509d28b7-0463-485c-a160-933eed68c849",
   "metadata": {},
   "outputs": [
    {
     "name": "stdout",
     "output_type": "stream",
     "text": [
      "<class 'str'>\n",
      "<class 'str'>\n",
      "<class 'list'>\n",
      "<class 'int'>\n"
     ]
    }
   ],
   "source": [
    "var1=''\n",
    "var2 = '[ DS , ML , Python]'\n",
    "var3 =  [ 'DS' , 'ML' , 'Python' ] \n",
    "var4 = 1\n",
    "\n",
    "print(type(var1))\n",
    "print(type(var2))\n",
    "print(type(var3))\n",
    "print(type(var4))"
   ]
  },
  {
   "cell_type": "markdown",
   "id": "bc482657-9ccb-4317-90ce-a8830c7b037c",
   "metadata": {},
   "source": [
    "Q3. Explain the use of the following operators using an example:\n",
    "(i) /\n",
    "(ii) %\n",
    "(iii) //\n",
    "(iv) **"
   ]
  },
  {
   "cell_type": "code",
   "execution_count": 13,
   "id": "61cee29f-de39-4ac3-84a7-d5a1b9aa7b11",
   "metadata": {},
   "outputs": [
    {
     "name": "stdout",
     "output_type": "stream",
     "text": [
      "2.0\n",
      "2\n",
      "1\n",
      "8\n"
     ]
    }
   ],
   "source": [
    "#1.) Division operator (/) : It is used for division\n",
    "\n",
    "a , b = 6,3\n",
    "print(a/b)\n",
    "\n",
    "#2.) Modulus operator (%) : It returns the remender of the division \n",
    "\n",
    "a , b = 5,3 \n",
    "print(a%b)\n",
    "\n",
    "#3.) Float Devision operator (//) : It removes the float part of the result and return the integer value \n",
    "\n",
    "a , b = 5 , 3 \n",
    "print(a//b)\n",
    "\n",
    "#4.) Exponential operator (**) : It is used for the exponent of a number \n",
    "\n",
    "a,b = 2,3 \n",
    "print(a**b)"
   ]
  },
  {
   "cell_type": "markdown",
   "id": "125e376f-83de-4163-9b00-214d190bd42c",
   "metadata": {},
   "source": [
    "Q4. Create a list of length 10 of your choice containing multiple types of data. Using for loop print the\n",
    "element and its data type."
   ]
  },
  {
   "cell_type": "code",
   "execution_count": 17,
   "id": "111c7a17-13b1-4938-b96a-82a45d5181b0",
   "metadata": {},
   "outputs": [
    {
     "name": "stdout",
     "output_type": "stream",
     "text": [
      "value is 1 and type is <class 'int'>\n",
      "value is 2 and type is <class 'int'>\n",
      "value is 3 and type is <class 'int'>\n",
      "value is 4 and type is <class 'int'>\n",
      "value is 5.6 and type is <class 'int'>\n",
      "value is [1, 4, 5] and type is <class 'int'>\n",
      "value is (1, 4) and type is <class 'int'>\n",
      "value is Hello and type is <class 'int'>\n",
      "value is 5.678 and type is <class 'int'>\n",
      "value is True and type is <class 'int'>\n"
     ]
    }
   ],
   "source": [
    "lis = ['1' , 2  , '3' , 4 , 5.6 , [1,4,5] , (1 , 4 ) , \"Hello\" ,5.678 ,True ]\n",
    "\n",
    "for i in lis:\n",
    "    print(f\"value is {i} and type is {type(1)}\")"
   ]
  },
  {
   "cell_type": "markdown",
   "id": "9a7ea364-a824-443b-9264-3a5b622dab04",
   "metadata": {},
   "source": [
    "Q5. Using a while loop, verify if the number A is purely divisible by number B and if so then how many\n",
    "times it can be divisible.\n"
   ]
  },
  {
   "cell_type": "code",
   "execution_count": 21,
   "id": "a3d1ff58-ab7c-4686-aaef-5db700cb500a",
   "metadata": {},
   "outputs": [
    {
     "name": "stdout",
     "output_type": "stream",
     "text": [
      "Number of divisions: 2\n"
     ]
    }
   ],
   "source": [
    "a=36\n",
    "\n",
    "b=6\n",
    "\n",
    "divisions = 0  # Variable to store the number of divisions\n",
    "\n",
    "while a % b == 0:\n",
    "    a //= b  # Divide A by B using integer division\n",
    "    divisions += 1  # Increment the divisions counter\n",
    "\n",
    "print(\"Number of divisions:\", divisions)"
   ]
  },
  {
   "cell_type": "markdown",
   "id": "b4b3ca05-b92b-4a6b-bc92-272772db8dc0",
   "metadata": {},
   "source": [
    "Q6. Create a list containing 25 int type data. Using for loop and if-else condition print if the element is\n",
    "divisible by 3 or not."
   ]
  },
  {
   "cell_type": "code",
   "execution_count": 27,
   "id": "01f232dc-2d5b-4fd2-9bd5-75338a68c568",
   "metadata": {},
   "outputs": [
    {
     "name": "stdout",
     "output_type": "stream",
     "text": [
      "28 is not divisible by 3 \n",
      "38 is not divisible by 3 \n",
      "16 is not divisible by 3 \n",
      "42 is divisible by 3 \n",
      "57 is divisible by 3 \n",
      "65 is not divisible by 3 \n",
      "100 is not divisible by 3 \n",
      "37 is not divisible by 3 \n",
      "94 is not divisible by 3 \n",
      "31 is not divisible by 3 \n",
      "91 is not divisible by 3 \n",
      "7 is not divisible by 3 \n",
      "40 is not divisible by 3 \n",
      "42 is divisible by 3 \n",
      "76 is not divisible by 3 \n",
      "67 is not divisible by 3 \n",
      "9 is divisible by 3 \n",
      "87 is divisible by 3 \n",
      "95 is not divisible by 3 \n",
      "85 is not divisible by 3 \n",
      "74 is not divisible by 3 \n",
      "21 is divisible by 3 \n",
      "80 is not divisible by 3 \n",
      "99 is divisible by 3 \n",
      "71 is not divisible by 3 \n"
     ]
    }
   ],
   "source": [
    "import random\n",
    "\n",
    "# creating a list\n",
    "lis = []\n",
    "for i in range(25):\n",
    "    a = random.randint(1,100)\n",
    "    lis.append(a)\n",
    "\n",
    "#checking the divisibility \n",
    "for i in lis:\n",
    "    if (i%3 == 0):\n",
    "        print(f\"{i} is divisible by 3 \")\n",
    "    else: \n",
    "        print(f\"{i} is not divisible by 3 \")\n"
   ]
  },
  {
   "cell_type": "markdown",
   "id": "7b15a94e-2548-4dcc-a117-67003cb9cfdf",
   "metadata": {},
   "source": [
    "Q7. What do you understand about mutable and immutable data types? Give examples for both showing\n",
    "this property."
   ]
  },
  {
   "cell_type": "markdown",
   "id": "3a71df5b-0a8e-42ee-bb6a-a4c85973476b",
   "metadata": {},
   "source": [
    "The mutable data type are those data which can be which can be change or modify or deleted on declaretion for example list , int , char The unmutable data type are those data which can not be which can be change or modify or deleted on declaretion for example tuple , string"
   ]
  },
  {
   "cell_type": "code",
   "execution_count": 29,
   "id": "777fc7be-47f4-4c4e-9697-92c0b889c48b",
   "metadata": {},
   "outputs": [
    {
     "name": "stdout",
     "output_type": "stream",
     "text": [
      "2\n"
     ]
    }
   ],
   "source": [
    "a = 36\n",
    "b = 6\n",
    "div = 0\n",
    "while a%b ==0:\n",
    "    a = a//b \n",
    "    div +=1\n",
    "print(div)\n",
    "\n",
    "\n"
   ]
  },
  {
   "cell_type": "code",
   "execution_count": 31,
   "id": "2f5043dc-ee20-4e6d-8038-ed10bd603ce9",
   "metadata": {},
   "outputs": [
    {
     "ename": "TypeError",
     "evalue": "'tuple' object does not support item assignment",
     "output_type": "error",
     "traceback": [
      "\u001b[0;31m---------------------------------------------------------------------------\u001b[0m",
      "\u001b[0;31mTypeError\u001b[0m                                 Traceback (most recent call last)",
      "Cell \u001b[0;32mIn[31], line 3\u001b[0m\n\u001b[1;32m      1\u001b[0m \u001b[38;5;66;03m#as tuple is immutable it will show error\u001b[39;00m\n\u001b[1;32m      2\u001b[0m a \u001b[38;5;241m=\u001b[39m (\u001b[38;5;241m1\u001b[39m,\u001b[38;5;241m2\u001b[39m,\u001b[38;5;241m3\u001b[39m)\n\u001b[0;32m----> 3\u001b[0m \u001b[43ma\u001b[49m\u001b[43m[\u001b[49m\u001b[38;5;241;43m2\u001b[39;49m\u001b[43m]\u001b[49m \u001b[38;5;241m=\u001b[39m \u001b[38;5;241m4\u001b[39m\n",
      "\u001b[0;31mTypeError\u001b[0m: 'tuple' object does not support item assignment"
     ]
    }
   ],
   "source": [
    "#as tuple is immutable it will show error\n",
    "a = (1,2,3)\n",
    "a[2] = 4"
   ]
  },
  {
   "cell_type": "code",
   "execution_count": null,
   "id": "0c748260-265f-4e66-a0c0-7d4db1de2fce",
   "metadata": {},
   "outputs": [],
   "source": []
  }
 ],
 "metadata": {
  "kernelspec": {
   "display_name": "Python 3 (ipykernel)",
   "language": "python",
   "name": "python3"
  },
  "language_info": {
   "codemirror_mode": {
    "name": "ipython",
    "version": 3
   },
   "file_extension": ".py",
   "mimetype": "text/x-python",
   "name": "python",
   "nbconvert_exporter": "python",
   "pygments_lexer": "ipython3",
   "version": "3.10.8"
  }
 },
 "nbformat": 4,
 "nbformat_minor": 5
}

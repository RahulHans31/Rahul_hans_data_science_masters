{
 "cells": [
  {
   "cell_type": "markdown",
   "id": "52df5859-5323-4194-bb8a-642a441acd24",
   "metadata": {},
   "source": [
    "# Q1. Which keyword is used to create a function? Create a function to return a list of odd numbers in the range of 1 to 25."
   ]
  },
  {
   "cell_type": "code",
   "execution_count": 5,
   "id": "8ee96541-b6de-4fcd-9f4a-1a97041a801c",
   "metadata": {},
   "outputs": [
    {
     "data": {
      "text/plain": [
       "[1, 3, 5, 7, 9, 11, 13, 15, 17, 19, 21, 23, 25]"
      ]
     },
     "execution_count": 5,
     "metadata": {},
     "output_type": "execute_result"
    }
   ],
   "source": [
    "# def is used to create a functions\n",
    "\n",
    "def retlist():\n",
    "    l=[]\n",
    "    for i in range(26):\n",
    "        if i%2 != 0:\n",
    "            l.append(i)\n",
    "            \n",
    "    return l            \n",
    "\n",
    "retlist()"
   ]
  },
  {
   "cell_type": "markdown",
   "id": "e38dde73-3ba4-4b76-b397-e0059cfe9728",
   "metadata": {},
   "source": [
    "# Q2. Why *args and **kwargs is used in some functions? Create a function each for *args and **kwargs to demonstrate their use."
   ]
  },
  {
   "cell_type": "code",
   "execution_count": 12,
   "id": "a258389c-7837-4c91-86e5-508c07b0147d",
   "metadata": {},
   "outputs": [
    {
     "name": "stdout",
     "output_type": "stream",
     "text": [
      "36\n",
      "name: John\n",
      "age: 30\n",
      "city: New York\n"
     ]
    }
   ],
   "source": [
    "# Args and kwargs are used when we don't know the no of arguements required by the function\n",
    "\n",
    "\n",
    "def my_func(*args):\n",
    "    sum = 0\n",
    "    for i in args:\n",
    "        sum+=i\n",
    "        \n",
    "    return sum\n",
    "\n",
    "print(my_func(6,7,8,6,9))\n",
    "\n",
    "def my_func_k(**kwargs):\n",
    "    for l1, l2 in kwargs.items():\n",
    "        print(f\"{l1}: {l2}\")\n",
    "        \n",
    "my_func_k(name=\"John\", age=30, city=\"New York\")"
   ]
  },
  {
   "cell_type": "markdown",
   "id": "3db2550d-8bcb-4a49-aa7e-55b24c5111e0",
   "metadata": {},
   "source": [
    "# Q3. What is an iterator in python? Name the method used to initialise the iterator object and the method used for iteration. Use these methods to print the first five elements of the given list [2, 4, 6, 8, 10, 12, 14, 16, 18, 20]."
   ]
  },
  {
   "cell_type": "markdown",
   "id": "06d77e8a-c91d-486a-9172-7724af9f3e17",
   "metadata": {},
   "source": [
    "In Python, an iterator is an object that is iterable, which consists of two methods: __iter__() and __next__().\n",
    "\n",
    "    The __iter__() method is used to initialize the iterator object and returns the iterator object itself. It is called when you want to create an iterator from an iterable.\n",
    "\n",
    "    The __next__() method is used for iteration and returns the next item in the sequence. It raises the StopIteration exception when there are no more items to return.\n",
    "\n",
    "To print the first five elements of the given list [2, 4, 6, 8, 10, 12, 14, 16, 18, 20], we can create an iterator using the iter() function and iterate over it using a loop or the next() function. Here's an example:\n",
    "\n",
    "my_list = [2, 4, 6, 8, 10, 12, 14, 16, 18, 20]\n",
    "\n",
    " Create an iterator object\n",
    "my_iterator = iter(my_list)\n",
    "\n",
    " Iterate using a loop\n",
    "for _ in range(5):\n",
    "    element = next(my_iterator)\n",
    "    print(element)\n",
    "\n",
    " Output: 2, 4, 6, 8, 10\n",
    "\n",
    "In this example, we first create an iterator object my_iterator using the iter() function, which takes the list my_list as an argument. Then, we use a loop to iterate five times and print the next element of the iterator using the next() function. This prints the first five elements of the list [2, 4, 6, 8, 10]."
   ]
  },
  {
   "cell_type": "code",
   "execution_count": 13,
   "id": "1bb5f36c-68a7-437a-823b-b5b9e029d378",
   "metadata": {},
   "outputs": [
    {
     "name": "stdout",
     "output_type": "stream",
     "text": [
      "1\n",
      "2\n",
      "3\n",
      "5\n",
      "6\n"
     ]
    }
   ],
   "source": [
    "my_list = [1,2,3,5,6]\n",
    "iterl = iter(my_list)\n",
    "for i in range(5):\n",
    "    elem = next(iterl)\n",
    "    print(elem)"
   ]
  },
  {
   "cell_type": "code",
   "execution_count": 14,
   "id": "a5c0b47b-cab9-44e1-bb08-dce1a9413373",
   "metadata": {},
   "outputs": [
    {
     "ename": "StopIteration",
     "evalue": "",
     "output_type": "error",
     "traceback": [
      "\u001b[0;31m---------------------------------------------------------------------------\u001b[0m",
      "\u001b[0;31mStopIteration\u001b[0m                             Traceback (most recent call last)",
      "Cell \u001b[0;32mIn[14], line 2\u001b[0m\n\u001b[1;32m      1\u001b[0m \u001b[38;5;28;01mfor\u001b[39;00m i \u001b[38;5;129;01min\u001b[39;00m \u001b[38;5;28mrange\u001b[39m(\u001b[38;5;241m6\u001b[39m):\n\u001b[0;32m----> 2\u001b[0m     elem \u001b[38;5;241m=\u001b[39m \u001b[38;5;28;43mnext\u001b[39;49m\u001b[43m(\u001b[49m\u001b[43miterl\u001b[49m\u001b[43m)\u001b[49m\n\u001b[1;32m      3\u001b[0m     \u001b[38;5;28mprint\u001b[39m(elem)\n",
      "\u001b[0;31mStopIteration\u001b[0m: "
     ]
    }
   ],
   "source": [
    "for i in range(6):\n",
    "    elem = next(iterl)\n",
    "    print(elem)"
   ]
  },
  {
   "cell_type": "markdown",
   "id": "f4072bb5-e594-4d7a-9006-19e2a8934227",
   "metadata": {},
   "source": [
    "# Q4. What is a generator function in python? Why yield keyword is used? Give an example of a generator function."
   ]
  },
  {
   "cell_type": "markdown",
   "id": "06632123-fd81-4dc1-b3ae-8220e9e76377",
   "metadata": {},
   "source": [
    "In Python, a generator function is a special type of function that returns an iterator object called a generator. Unlike regular functions that use the return statement to return a value and terminate, generator functions use the yield keyword to produce a sequence of values while maintaining their internal state between successive calls.\n",
    "\n",
    "The yield keyword is used in generator functions to define a point at which the function will pause its execution and yield a value. The function's state is saved, allowing it to resume from where it left off when the next value is requested. This makes generator functions a memory-efficient way to generate a large sequence of values, as they generate values on-the-fly instead of storing them all in memory.\n",
    "\n",
    "Here's an example of a generator function that generates a sequence of even numbers up to a given limit:\n"
   ]
  },
  {
   "cell_type": "code",
   "execution_count": 21,
   "id": "630745c7-5471-4a57-8f96-cb5a1c65d99b",
   "metadata": {},
   "outputs": [
    {
     "name": "stdout",
     "output_type": "stream",
     "text": [
      "0\n",
      "2\n",
      "4\n",
      "6\n",
      "8\n",
      "10\n",
      "12\n",
      "14\n"
     ]
    }
   ],
   "source": [
    "\n",
    "def even_numbers(limit):\n",
    "    n = 0\n",
    "    while n <= limit:\n",
    "        yield n\n",
    "        n += 2\n",
    "evn_gen = even_numbers(20)\n",
    "print(next(evn_gen))\n",
    "print(next(evn_gen))\n",
    "print(next(evn_gen))\n",
    "print(next(evn_gen))\n",
    "print(next(evn_gen))\n",
    "print(next(evn_gen))\n",
    "print(next(evn_gen))\n",
    "print(next(evn_gen))"
   ]
  },
  {
   "cell_type": "markdown",
   "id": "cb330aad-9b74-403f-9a60-1a6f9dbcd797",
   "metadata": {},
   "source": [
    "# Q5. Create a generator function for prime numbers less than 1000. Use the next() method to print the first 20 prime numbers."
   ]
  },
  {
   "cell_type": "code",
   "execution_count": 25,
   "id": "e23f407c-c0d8-415d-b2dd-4d125b6f9069",
   "metadata": {},
   "outputs": [
    {
     "name": "stdout",
     "output_type": "stream",
     "text": [
      "The 1 primr no is 2\n",
      "The 2 primr no is 3\n",
      "The 3 primr no is 5\n",
      "The 4 primr no is 7\n",
      "The 5 primr no is 11\n",
      "The 6 primr no is 13\n",
      "The 7 primr no is 17\n",
      "The 8 primr no is 19\n",
      "The 9 primr no is 23\n",
      "The 10 primr no is 29\n",
      "The 11 primr no is 31\n",
      "The 12 primr no is 37\n",
      "The 13 primr no is 41\n",
      "The 14 primr no is 43\n",
      "The 15 primr no is 47\n",
      "The 16 primr no is 53\n",
      "The 17 primr no is 59\n",
      "The 18 primr no is 61\n",
      "The 19 primr no is 67\n",
      "The 20 primr no is 71\n"
     ]
    }
   ],
   "source": [
    "def primegen():\n",
    "    primes = []\n",
    "    num = 2\n",
    "    while True:\n",
    "        is_prime = True\n",
    "        for prime in primes:\n",
    "            if num % prime == 0:\n",
    "                is_prime = False\n",
    "                break\n",
    "        if is_prime:\n",
    "            primes.append(num)\n",
    "            yield num\n",
    "        num += 1\n",
    "        \n",
    "prime_gen=primegen()\n",
    "for i in range(20):\n",
    "    print(f\"The {i+1} primr no is {next(prime_gen)}\")"
   ]
  },
  {
   "cell_type": "markdown",
   "id": "4b1c94df-9ef1-4330-981d-4494d84e3690",
   "metadata": {},
   "source": [
    "# Q6. Write a python program to print the first 10 Fibonacci numbers using a while loop"
   ]
  },
  {
   "cell_type": "code",
   "execution_count": 27,
   "id": "4335c3cf-2c57-4685-bd94-4a67d4ad7b26",
   "metadata": {},
   "outputs": [
    {
     "name": "stdout",
     "output_type": "stream",
     "text": [
      "0 1 1 2 3 5 8 13 21 34 "
     ]
    }
   ],
   "source": [
    "a, b = 0, 1\n",
    "\n",
    "count = 0\n",
    "\n",
    "while count < 10:\n",
    "    print(a , end = \" \")\n",
    "\n",
    "    a, b = b, a + b\n",
    "\n",
    "    count += 1"
   ]
  },
  {
   "cell_type": "markdown",
   "id": "c008095a-e6eb-4d18-bff8-5c8c7acd2121",
   "metadata": {},
   "source": [
    "# Q7. Write a List Comprehension to iterate through the given string: ‘pwskills’. Expected output: ['p', 'w', 's', 'k', 'i', 'l', 'l', 's']"
   ]
  },
  {
   "cell_type": "code",
   "execution_count": 31,
   "id": "2524ab97-b818-46e9-925b-e6a4bb9135ca",
   "metadata": {},
   "outputs": [
    {
     "name": "stdout",
     "output_type": "stream",
     "text": [
      "['p', 'w', 's', 'k', 'i', 'l', 'l', 's']\n"
     ]
    }
   ],
   "source": [
    "strr = 'pwskills'\n",
    "str_iter = iter(strr)\n",
    "l = []\n",
    "\n",
    "for i in str_iter:\n",
    "    l.append(i)\n",
    "    \n",
    "print(l)"
   ]
  },
  {
   "cell_type": "markdown",
   "id": "0af1e66d-661f-4f9b-8aab-f65630f34ea4",
   "metadata": {},
   "source": [
    "# Q8. Write a python program to check whether a given number is Palindrome or not using a while loop."
   ]
  },
  {
   "cell_type": "code",
   "execution_count": 34,
   "id": "2425bdee-b2cb-47c9-a6fc-b3ebdfc2bf15",
   "metadata": {},
   "outputs": [
    {
     "name": "stdin",
     "output_type": "stream",
     "text": [
      "Enter a number:  456\n"
     ]
    },
    {
     "name": "stdout",
     "output_type": "stream",
     "text": [
      "The number 456 is not a palindrome.\n"
     ]
    }
   ],
   "source": [
    "number = int(input(\"Enter a number: \"))\n",
    "temp = number\n",
    "reverse = 0\n",
    "\n",
    "while temp > 0:\n",
    "    remainder = temp % 10\n",
    "    reverse = (reverse * 10) + remainder\n",
    "    temp = temp // 10\n",
    "\n",
    "if number == reverse:\n",
    "    print(f\"The number {number} is a palindrome.\")\n",
    "else:\n",
    "    print(f\"The number {number} is not a palindrome.\")"
   ]
  },
  {
   "cell_type": "markdown",
   "id": "c2ae9098-d80d-466b-8706-9174f2bdd624",
   "metadata": {},
   "source": [
    "# Q9. Write a code to print odd numbers from 1 to 100 using list comprehension."
   ]
  },
  {
   "cell_type": "code",
   "execution_count": 40,
   "id": "3d95c5b2-3a09-4dbc-a68b-bdc13ee2842d",
   "metadata": {},
   "outputs": [
    {
     "name": "stdout",
     "output_type": "stream",
     "text": [
      "[1, 3, 5, 7, 9, 11, 13, 15, 17, 19, 21, 23, 25, 27, 29, 31, 33, 35, 37, 39, 41, 43, 45, 47, 49, 51, 53, 55, 57, 59, 61, 63, 65, 67, 69, 71, 73, 75, 77, 79, 81, 83, 85, 87, 89, 91, 93, 95, 97, 99]\n"
     ]
    }
   ],
   "source": [
    "listt = [num for num in range(101)]\n",
    "odd_numbers = [num for num in listt if num % 2 != 0]\n",
    "print(odd_numbers)\n"
   ]
  },
  {
   "cell_type": "code",
   "execution_count": null,
   "id": "d51c6217-d8e0-4a85-bfeb-eee9e40ba1a1",
   "metadata": {},
   "outputs": [],
   "source": []
  }
 ],
 "metadata": {
  "kernelspec": {
   "display_name": "Python 3 (ipykernel)",
   "language": "python",
   "name": "python3"
  },
  "language_info": {
   "codemirror_mode": {
    "name": "ipython",
    "version": 3
   },
   "file_extension": ".py",
   "mimetype": "text/x-python",
   "name": "python",
   "nbconvert_exporter": "python",
   "pygments_lexer": "ipython3",
   "version": "3.10.8"
  }
 },
 "nbformat": 4,
 "nbformat_minor": 5
}
